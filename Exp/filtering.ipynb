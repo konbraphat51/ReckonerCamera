{
 "cells": [
  {
   "cell_type": "code",
   "execution_count": null,
   "metadata": {},
   "outputs": [],
   "source": [
    "import pandas as pd\n",
    "import numpy as np\n",
    "from matplotlib import pyplot as plt"
   ]
  },
  {
   "cell_type": "code",
   "execution_count": null,
   "metadata": {},
   "outputs": [],
   "source": [
    "df = pd.read_csv('data_0.csv', names=[\"time\", \"x\", \"y\", \"z\"])\n",
    "\n",
    "df"
   ]
  },
  {
   "cell_type": "code",
   "execution_count": null,
   "metadata": {},
   "outputs": [],
   "source": [
    "_sum = 0\n",
    "for cnt in range(0, len(df)-1):\n",
    "    _sum += df[\"time\"][cnt+1] - df[\"time\"][cnt]\n",
    "    \n",
    "_sum /= 1000\n",
    "    \n",
    "samplingRate = (len(df)-1) / _sum\n",
    "\n",
    "samplingRate"
   ]
  },
  {
   "cell_type": "code",
   "execution_count": null,
   "metadata": {},
   "outputs": [],
   "source": [
    "q = 0.5\n",
    "\n",
    "cutoff = 40\n",
    "\n",
    "omega = 2 * np.pi * cutoff / samplingRate\n",
    "alpha = np.sin(omega) / (2 * q)\n",
    "\n",
    "a0 = 1 + alpha\n",
    "a1 = -2 * np.cos(omega)\n",
    "a2 = 1 - alpha\n",
    "b0 = (1 - np.cos(omega)) / 2\n",
    "b1 = 1 - np.cos(omega)\n",
    "b2 = (1 - np.cos(omega)) / 2\n",
    "\n",
    "in1 = np.zeros(3)\n",
    "in2 = np.zeros(3)\n",
    "out1 = np.zeros(3)\n",
    "out2 = np.zeros(3)\n",
    "\n",
    "accelerationFiltered = []\n",
    "\n",
    "for cnt in range(0, len(df)):\n",
    "    _input = np.array([df[\"x\"][cnt], df[\"y\"][cnt], df[\"z\"][cnt]])\n",
    "    \n",
    "    outputThis = (b0 / a0) * _input + (b1 / a0) * in1 + (b2 / a0) * in2 - (a1 / a0) * out1 - (a2 / a0) * out2\n",
    "   \n",
    "    accelerationFiltered.append(outputThis)\n",
    "   \n",
    "    in2 = in1\n",
    "    in1 = _input\n",
    "\n",
    "    out2 = out1\n",
    "    out1 = outputThis "
   ]
  },
  {
   "cell_type": "markdown",
   "metadata": {},
   "source": [
    "compare the filtered acceleration with the raw acceleration"
   ]
  },
  {
   "cell_type": "code",
   "execution_count": null,
   "metadata": {},
   "outputs": [],
   "source": [
    "#x\n",
    "plt.figure(figsize=(20,10))\n",
    "plt.plot(df[\"time\"], df[\"x\"], label=\"raw x\")\n",
    "plt.plot(df[\"time\"], [i[0] for i in accelerationFiltered], label=\"filtered x\")\n",
    "plt.legend()"
   ]
  },
  {
   "cell_type": "markdown",
   "metadata": {},
   "source": [
    "velocity"
   ]
  },
  {
   "cell_type": "code",
   "execution_count": null,
   "metadata": {},
   "outputs": [],
   "source": [
    "velocity = [np.zeros(3)]\n",
    "\n",
    "for cnt in range(0, len(df)-1):\n",
    "    velocity.append(velocity[cnt] + accelerationFiltered[cnt] * samplingRate)"
   ]
  },
  {
   "cell_type": "code",
   "execution_count": null,
   "metadata": {},
   "outputs": [],
   "source": [
    "plt.figure(figsize=(20,10))\n",
    "plt.plot(df[\"time\"], [i[0] for i in velocity], label=\"velocity x\")\n",
    "plt.plot(df[\"time\"], [i[1] for i in velocity], label=\"velocity y\")\n",
    "plt.plot(df[\"time\"], [i[2] for i in velocity], label=\"velocity z\")\n",
    "plt.legend()\n"
   ]
  },
  {
   "cell_type": "markdown",
   "metadata": {},
   "source": [
    "distance"
   ]
  },
  {
   "cell_type": "code",
   "execution_count": null,
   "metadata": {},
   "outputs": [],
   "source": [
    "distance = np.zeros(3)\n",
    "\n",
    "for cnt in range(0, len(velocity)):\n",
    "    distance += velocity[cnt] * samplingRate\n",
    "    \n",
    "distance"
   ]
  }
 ],
 "metadata": {
  "kernelspec": {
   "display_name": "datasci",
   "language": "python",
   "name": "python3"
  },
  "language_info": {
   "codemirror_mode": {
    "name": "ipython",
    "version": 3
   },
   "file_extension": ".py",
   "mimetype": "text/x-python",
   "name": "python",
   "nbconvert_exporter": "python",
   "pygments_lexer": "ipython3",
   "version": "3.10.12"
  }
 },
 "nbformat": 4,
 "nbformat_minor": 2
}
